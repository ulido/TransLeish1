{
 "cells": [
  {
   "cell_type": "markdown",
   "metadata": {},
   "source": [
    "# TransLeish _In Vitro_ study analysis"
   ]
  },
  {
   "cell_type": "markdown",
   "metadata": {},
   "source": [
    "We want to extract cell line barcodes from sequencing samples, count their unique occurrances and infer the cell line fitnesses.\n",
    "\n",
    "We need to load a set of libraries for this:\n",
    " * `matplotlib`: a plotting library\n",
    " * `numpy`: python extension to work with large numerical arrays\n",
    " * `pandas`: data analysis tool to work with large spreadsheet-like data sets\n",
    " * `scipy`: library that includes many scientific data analysis methods (we use it here for the statistics)\n",
    " * `tqdm`: tool to display a progress bar\n",
    "\n",
    "We are also using a few python internal libraries:\n",
    " * `re`: library to work with regular expressions (mainly used for the analysis of text)\n",
    " * `pathlib`: library to handle paths to directories and files\n",
    " * `json`: library to load and save structured data\n",
    " * `urllib.request`: library to load data from URLs\n",
    "\n",
    "Finally, we use the internally-developed library `LeishFASTQ` to extract the unique barcodes from our sequenceing FASTQ files."
   ]
  },
  {
   "cell_type": "code",
   "execution_count": 32,
   "metadata": {},
   "outputs": [],
   "source": [
    "%matplotlib inline\n",
    "import matplotlib.pyplot as plt\n",
    "import numpy as np\n",
    "import pandas as pd\n",
    "idx = pd.IndexSlice\n",
    "from scipy.stats import mannwhitneyu\n",
    "\n",
    "from tqdm.auto import tqdm\n",
    "\n",
    "import re\n",
    "import pathlib\n",
    "import json\n",
    "from urllib.request import urlopen, urlretrieve\n",
    "\n",
    "from LeishFASTQ.leishfastq import process_fastq_files\n"
   ]
  },
  {
   "cell_type": "markdown",
   "metadata": {},
   "source": [
    "First, let us find the list of samples and URLs to the FASTQ files from the ENA. This essentially queries the ENA for the TransLeish project accession number and extracts all samples that start with \"TL1\". We then use this to construct a list of samples with the corresponding forward and reverse read FASTQ file URLs."
   ]
  },
  {
   "cell_type": "code",
   "execution_count": 9,
   "metadata": {},
   "outputs": [
    {
     "data": {
      "text/plain": [
       "sample_title  direction\n",
       "TL1_OB_0h     1            ftp.sra.ebi.ac.uk/vol1/fastq/ERR132/063/ERR132...\n",
       "              2            ftp.sra.ebi.ac.uk/vol1/fastq/ERR132/063/ERR132...\n",
       "TL1_OC_0h     1            ftp.sra.ebi.ac.uk/vol1/fastq/ERR132/065/ERR132...\n",
       "              2            ftp.sra.ebi.ac.uk/vol1/fastq/ERR132/065/ERR132...\n",
       "TL1_OC_24h    1            ftp.sra.ebi.ac.uk/vol1/fastq/ERR132/066/ERR132...\n",
       "              2            ftp.sra.ebi.ac.uk/vol1/fastq/ERR132/066/ERR132...\n",
       "TL1_OA_0h     1            ftp.sra.ebi.ac.uk/vol1/fastq/ERR132/061/ERR132...\n",
       "              2            ftp.sra.ebi.ac.uk/vol1/fastq/ERR132/061/ERR132...\n",
       "TL1_OA_24h    1            ftp.sra.ebi.ac.uk/vol1/fastq/ERR132/062/ERR132...\n",
       "              2            ftp.sra.ebi.ac.uk/vol1/fastq/ERR132/062/ERR132...\n",
       "TL1_OB_24h    1            ftp.sra.ebi.ac.uk/vol1/fastq/ERR132/064/ERR132...\n",
       "              2            ftp.sra.ebi.ac.uk/vol1/fastq/ERR132/064/ERR132...\n",
       "dtype: object"
      ]
     },
     "execution_count": 9,
     "metadata": {},
     "output_type": "execute_result"
    }
   ],
   "source": [
    "with urlopen('https://www.ebi.ac.uk/ena/portal/api/search?result=read_run&query=study_accession%3D%22PRJEB76744%22%20AND%20sample_title%3D%22TL1_*%22&fields=fastq_ftp%2Csample_title&format=json') as f:\n",
    "    content = f.read()\n",
    "\n",
    "runs = (\n",
    "    pd.DataFrame(json.loads(content.decode('ascii')))\n",
    "    .set_index('sample_title')\n",
    "    .fastq_ftp.str.split(';', expand=True)\n",
    "    .rename(columns=lambda x: str(x + 1))\n",
    "    .rename_axis('direction', axis=1)\n",
    "    .stack()\n",
    ")\n",
    "runs"
   ]
  },
  {
   "cell_type": "markdown",
   "metadata": {},
   "source": [
    "Next, we download the FASTQ files from ENA (unless the files are already present from a previous run, in which case the downloading is skipped)."
   ]
  },
  {
   "cell_type": "code",
   "execution_count": 6,
   "metadata": {},
   "outputs": [
    {
     "data": {
      "application/vnd.jupyter.widget-view+json": {
       "model_id": "4aca65d399df4475b07b67136a3725ae",
       "version_major": 2,
       "version_minor": 0
      },
      "text/plain": [
       "  0%|          | 0/12 [00:00<?, ?it/s]"
      ]
     },
     "metadata": {},
     "output_type": "display_data"
    }
   ],
   "source": [
    "directory = pathlib.Path('.')\n",
    "for (sample, direction), url in tqdm(runs.items(), total=runs.shape[0]):\n",
    "    filename = f\"{sample}_R{direction}_.fastq.gz\"\n",
    "    if not (directory / filename).exists():\n",
    "        urlretrieve(\"http://\" + url, filename=filename)"
   ]
  },
  {
   "cell_type": "markdown",
   "metadata": {},
   "source": [
    "We also need to load the database that maps the 17nt barcode sequences to their corresponding IDs."
   ]
  },
  {
   "cell_type": "code",
   "execution_count": 7,
   "metadata": {},
   "outputs": [],
   "source": [
    "barcode_database = pd.read_csv('barcode_database.csv').set_index('barcode_sequence')"
   ]
  },
  {
   "cell_type": "markdown",
   "metadata": {},
   "source": [
    "Now we use the function `process_fastq_files` from the `LeishFASTQ` library to find all barcode sequences in the FASTQ files and compare them to the known sequences in `barcode_database`. This is done by allowing up to two nucleotide substitutions in the flanking sequences, and up to a single substitution in the barcode sequence itself (when comparing to the known barcodes). Please ignore the warning about allowing more than one substition - it safely reduces the number of substitutions to one only in the barcode sequences."
   ]
  },
  {
   "cell_type": "code",
   "execution_count": 8,
   "metadata": {},
   "outputs": [
    {
     "data": {
      "application/vnd.jupyter.widget-view+json": {
       "model_id": "66ae198c8db3426681674ef74b8960e7",
       "version_major": 2,
       "version_minor": 0
      },
      "text/plain": [
       "Finding barcodes:   0%|          | 0/12 [00:00<?, ?it/s]"
      ]
     },
     "metadata": {},
     "output_type": "display_data"
    },
    {
     "name": "stdout",
     "output_type": "stream",
     "text": [
      "WARNING: Allowing more than one substitution in the barcode is not allowed because it leads to inconsistencies. Automatically reduced this to one.\n",
      "WARNING: Allowing more than one substitution in the barcode is not allowed because it leads to inconsistencies. Automatically reduced this to one.\n",
      "WARNING: Allowing more than one substitution in the barcode is not allowed because it leads to inconsistencies. Automatically reduced this to one.\n",
      "WARNING: Allowing more than one substitution in the barcode is not allowed because it leads to inconsistencies. Automatically reduced this to one.\n",
      "WARNING: Allowing more than one substitution in the barcode is not allowed because it leads to inconsistencies. Automatically reduced this to one.\n",
      "WARNING: Allowing more than one substitution in the barcode is not allowed because it leads to inconsistencies. Automatically reduced this to one.\n",
      "WARNING: Allowing more than one substitution in the barcode is not allowed because it leads to inconsistencies. Automatically reduced this to one.\n",
      "WARNING: Allowing more than one substitution in the barcode is not allowed because it leads to inconsistencies. Automatically reduced this to one.\n",
      "WARNING: Allowing more than one substitution in the barcode is not allowed because it leads to inconsistencies. Automatically reduced this to one.\n",
      "WARNING: Allowing more than one substitution in the barcode is not allowed because it leads to inconsistencies. Automatically reduced this to one.\n",
      "WARNING: Allowing more than one substitution in the barcode is not allowed because it leads to inconsistencies. Automatically reduced this to one.\n",
      "WARNING: Allowing more than one substitution in the barcode is not allowed because it leads to inconsistencies. Automatically reduced this to one.\n"
     ]
    }
   ],
   "source": [
    "raw_read_counts = process_fastq_files(\n",
    "    list(pathlib.Path('.').glob('TL1_*.fastq.gz')),\n",
    "    allow_substitutions=2,\n",
    "    known_sequences=list(barcode_database.index),\n",
    "    progress_wrap=lambda *a, **kw: tqdm(*a, desc=\"Finding barcodes\", **kw)\n",
    ")"
   ]
  },
  {
   "cell_type": "markdown",
   "metadata": {},
   "source": [
    "We next create a long list of barcode sequences and their read counts in each sample. Please note that we simply add the read counts from the forward and reverse reads. Invalid reads that do not have a valid barcode in them are identified by a blank barcode sequence."
   ]
  },
  {
   "cell_type": "code",
   "execution_count": 10,
   "metadata": {},
   "outputs": [
    {
     "data": {
      "text/html": [
       "<div>\n",
       "<style scoped>\n",
       "    .dataframe tbody tr th:only-of-type {\n",
       "        vertical-align: middle;\n",
       "    }\n",
       "\n",
       "    .dataframe tbody tr th {\n",
       "        vertical-align: top;\n",
       "    }\n",
       "\n",
       "    .dataframe thead th {\n",
       "        text-align: right;\n",
       "    }\n",
       "</style>\n",
       "<table border=\"1\" class=\"dataframe\">\n",
       "  <thead>\n",
       "    <tr style=\"text-align: right;\">\n",
       "      <th></th>\n",
       "      <th></th>\n",
       "      <th></th>\n",
       "      <th>count</th>\n",
       "    </tr>\n",
       "    <tr>\n",
       "      <th>sample</th>\n",
       "      <th>time</th>\n",
       "      <th>barcode_sequence</th>\n",
       "      <th></th>\n",
       "    </tr>\n",
       "  </thead>\n",
       "  <tbody>\n",
       "    <tr>\n",
       "      <th rowspan=\"5\" valign=\"top\">OA</th>\n",
       "      <th rowspan=\"5\" valign=\"top\">0h</th>\n",
       "      <th></th>\n",
       "      <td>54676</td>\n",
       "    </tr>\n",
       "    <tr>\n",
       "      <th>AAAAAAAGAAAGAAAGG</th>\n",
       "      <td>1</td>\n",
       "    </tr>\n",
       "    <tr>\n",
       "      <th>AAAAAACGAAAGAGATA</th>\n",
       "      <td>1</td>\n",
       "    </tr>\n",
       "    <tr>\n",
       "      <th>AAAAAAGAAGGAAAAGA</th>\n",
       "      <td>1</td>\n",
       "    </tr>\n",
       "    <tr>\n",
       "      <th>AAAAAAGGAACCAGAAC</th>\n",
       "      <td>1</td>\n",
       "    </tr>\n",
       "    <tr>\n",
       "      <th>...</th>\n",
       "      <th>...</th>\n",
       "      <th>...</th>\n",
       "      <td>...</td>\n",
       "    </tr>\n",
       "    <tr>\n",
       "      <th rowspan=\"5\" valign=\"top\">OC</th>\n",
       "      <th rowspan=\"5\" valign=\"top\">24h</th>\n",
       "      <th>TTTTTCGTTCAAGTCTC</th>\n",
       "      <td>1</td>\n",
       "    </tr>\n",
       "    <tr>\n",
       "      <th>TTTTTCTGCCTGGCGAT</th>\n",
       "      <td>1</td>\n",
       "    </tr>\n",
       "    <tr>\n",
       "      <th>TTTTTGAGGTCTGTAGC</th>\n",
       "      <td>1</td>\n",
       "    </tr>\n",
       "    <tr>\n",
       "      <th>TTTTTGGTGACTGTCGC</th>\n",
       "      <td>1</td>\n",
       "    </tr>\n",
       "    <tr>\n",
       "      <th>TTTTTTTACCCGAGTGT</th>\n",
       "      <td>1</td>\n",
       "    </tr>\n",
       "  </tbody>\n",
       "</table>\n",
       "<p>117385 rows × 1 columns</p>\n",
       "</div>"
      ],
      "text/plain": [
       "                               count\n",
       "sample time barcode_sequence        \n",
       "OA     0h                      54676\n",
       "            AAAAAAAGAAAGAAAGG      1\n",
       "            AAAAAACGAAAGAGATA      1\n",
       "            AAAAAAGAAGGAAAAGA      1\n",
       "            AAAAAAGGAACCAGAAC      1\n",
       "...                              ...\n",
       "OC     24h  TTTTTCGTTCAAGTCTC      1\n",
       "            TTTTTCTGCCTGGCGAT      1\n",
       "            TTTTTGAGGTCTGTAGC      1\n",
       "            TTTTTGGTGACTGTCGC      1\n",
       "            TTTTTTTACCCGAGTGT      1\n",
       "\n",
       "[117385 rows x 1 columns]"
      ]
     },
     "execution_count": 10,
     "metadata": {},
     "output_type": "execute_result"
    }
   ],
   "source": [
    "fname_re = re.compile('TL1_(?P<sample>O[ABC])_(?P<time>0h|24h)_R(?P<fwdrev>[12])_*')\n",
    "\n",
    "read_counts = (\n",
    "    pd.concat(\n",
    "        [\n",
    "            pd.DataFrame(\n",
    "                [\n",
    "                    {'barcode_sequence': seq, 'count': v['count'], 'mismatched': v['mismatched']}\n",
    "                    for seq, v in counts.items()\n",
    "                ]\n",
    "            )\n",
    "            .assign(**fname_re.match(fname).groupdict())\n",
    "            .set_index(['sample', 'time', 'fwdrev', 'barcode_sequence'])\n",
    "            for fname, counts in raw_read_counts.items()\n",
    "        ]\n",
    "    )\n",
    "    .sort_index()\n",
    "    .groupby(level=['sample', 'time', 'barcode_sequence'], dropna=False)\n",
    "    .sum()\n",
    "    .loc[:, ['count']]\n",
    ")\n",
    "read_counts"
   ]
  },
  {
   "cell_type": "markdown",
   "metadata": {},
   "source": [
    "Now we need to load the list of cell line barcode IDs that actually were put through the experiment."
   ]
  },
  {
   "cell_type": "code",
   "execution_count": 12,
   "metadata": {},
   "outputs": [],
   "source": [
    "membership = pd.read_csv('invitro_membership.csv').assign(inpool=1).set_index('barcode').inpool"
   ]
  },
  {
   "cell_type": "markdown",
   "metadata": {},
   "source": [
    "We next lay out the data frame into a wide format with time points and samples, and include the membership \"inpool\" information above."
   ]
  },
  {
   "cell_type": "code",
   "execution_count": 13,
   "metadata": {},
   "outputs": [
    {
     "data": {
      "text/html": [
       "<div>\n",
       "<style scoped>\n",
       "    .dataframe tbody tr th:only-of-type {\n",
       "        vertical-align: middle;\n",
       "    }\n",
       "\n",
       "    .dataframe tbody tr th {\n",
       "        vertical-align: top;\n",
       "    }\n",
       "\n",
       "    .dataframe thead tr th {\n",
       "        text-align: left;\n",
       "    }\n",
       "\n",
       "    .dataframe thead tr:last-of-type th {\n",
       "        text-align: right;\n",
       "    }\n",
       "</style>\n",
       "<table border=\"1\" class=\"dataframe\">\n",
       "  <thead>\n",
       "    <tr>\n",
       "      <th></th>\n",
       "      <th></th>\n",
       "      <th>time</th>\n",
       "      <th colspan=\"3\" halign=\"left\">0h</th>\n",
       "      <th colspan=\"3\" halign=\"left\">24h</th>\n",
       "    </tr>\n",
       "    <tr>\n",
       "      <th></th>\n",
       "      <th></th>\n",
       "      <th>sample</th>\n",
       "      <th>OA</th>\n",
       "      <th>OB</th>\n",
       "      <th>OC</th>\n",
       "      <th>OA</th>\n",
       "      <th>OB</th>\n",
       "      <th>OC</th>\n",
       "    </tr>\n",
       "    <tr>\n",
       "      <th>barcode_sequence</th>\n",
       "      <th>barcode</th>\n",
       "      <th>inpool</th>\n",
       "      <th></th>\n",
       "      <th></th>\n",
       "      <th></th>\n",
       "      <th></th>\n",
       "      <th></th>\n",
       "      <th></th>\n",
       "    </tr>\n",
       "  </thead>\n",
       "  <tbody>\n",
       "    <tr>\n",
       "      <th>AGTTGGCGGGCTGTTTT</th>\n",
       "      <th>B999</th>\n",
       "      <th>True</th>\n",
       "      <td>2533</td>\n",
       "      <td>2153</td>\n",
       "      <td>2751</td>\n",
       "      <td>4170</td>\n",
       "      <td>3485</td>\n",
       "      <td>3647</td>\n",
       "    </tr>\n",
       "    <tr>\n",
       "      <th>AGCCTCACGCGGAATCT</th>\n",
       "      <th>B9988</th>\n",
       "      <th>True</th>\n",
       "      <td>2038</td>\n",
       "      <td>1783</td>\n",
       "      <td>2209</td>\n",
       "      <td>2106</td>\n",
       "      <td>1800</td>\n",
       "      <td>2093</td>\n",
       "    </tr>\n",
       "    <tr>\n",
       "      <th>GTCCGTATCTTACTTCA</th>\n",
       "      <th>B9927</th>\n",
       "      <th>True</th>\n",
       "      <td>2716</td>\n",
       "      <td>2709</td>\n",
       "      <td>2836</td>\n",
       "      <td>3285</td>\n",
       "      <td>4222</td>\n",
       "      <td>3504</td>\n",
       "    </tr>\n",
       "    <tr>\n",
       "      <th>GACTGGTTTGGAACTGG</th>\n",
       "      <th>B9918</th>\n",
       "      <th>True</th>\n",
       "      <td>1127</td>\n",
       "      <td>1062</td>\n",
       "      <td>1234</td>\n",
       "      <td>1953</td>\n",
       "      <td>1630</td>\n",
       "      <td>1803</td>\n",
       "    </tr>\n",
       "    <tr>\n",
       "      <th>CGGGGGAAGCACAGTTA</th>\n",
       "      <th>B9827</th>\n",
       "      <th>True</th>\n",
       "      <td>619</td>\n",
       "      <td>513</td>\n",
       "      <td>735</td>\n",
       "      <td>968</td>\n",
       "      <td>759</td>\n",
       "      <td>828</td>\n",
       "    </tr>\n",
       "    <tr>\n",
       "      <th>...</th>\n",
       "      <th>...</th>\n",
       "      <th>...</th>\n",
       "      <td>...</td>\n",
       "      <td>...</td>\n",
       "      <td>...</td>\n",
       "      <td>...</td>\n",
       "      <td>...</td>\n",
       "      <td>...</td>\n",
       "    </tr>\n",
       "    <tr>\n",
       "      <th>AAAAAAAGGAGACGAGA</th>\n",
       "      <th></th>\n",
       "      <th>False</th>\n",
       "      <td>0</td>\n",
       "      <td>0</td>\n",
       "      <td>1</td>\n",
       "      <td>0</td>\n",
       "      <td>0</td>\n",
       "      <td>0</td>\n",
       "    </tr>\n",
       "    <tr>\n",
       "      <th>AAAAAAAGAATGAGGGA</th>\n",
       "      <th></th>\n",
       "      <th>False</th>\n",
       "      <td>0</td>\n",
       "      <td>0</td>\n",
       "      <td>0</td>\n",
       "      <td>0</td>\n",
       "      <td>0</td>\n",
       "      <td>1</td>\n",
       "    </tr>\n",
       "    <tr>\n",
       "      <th>AAAAAAAGAAAGAAAGG</th>\n",
       "      <th></th>\n",
       "      <th>False</th>\n",
       "      <td>1</td>\n",
       "      <td>0</td>\n",
       "      <td>0</td>\n",
       "      <td>0</td>\n",
       "      <td>0</td>\n",
       "      <td>0</td>\n",
       "    </tr>\n",
       "    <tr>\n",
       "      <th>AAAAAAAAAGCGAAAGG</th>\n",
       "      <th></th>\n",
       "      <th>False</th>\n",
       "      <td>0</td>\n",
       "      <td>1</td>\n",
       "      <td>0</td>\n",
       "      <td>0</td>\n",
       "      <td>0</td>\n",
       "      <td>0</td>\n",
       "    </tr>\n",
       "    <tr>\n",
       "      <th></th>\n",
       "      <th></th>\n",
       "      <th>False</th>\n",
       "      <td>54676</td>\n",
       "      <td>50559</td>\n",
       "      <td>62264</td>\n",
       "      <td>34211</td>\n",
       "      <td>31103</td>\n",
       "      <td>32579</td>\n",
       "    </tr>\n",
       "  </tbody>\n",
       "</table>\n",
       "<p>100887 rows × 6 columns</p>\n",
       "</div>"
      ],
      "text/plain": [
       "time                                 0h                  24h              \n",
       "sample                               OA     OB     OC     OA     OB     OC\n",
       "barcode_sequence  barcode inpool                                          \n",
       "AGTTGGCGGGCTGTTTT B999    True     2533   2153   2751   4170   3485   3647\n",
       "AGCCTCACGCGGAATCT B9988   True     2038   1783   2209   2106   1800   2093\n",
       "GTCCGTATCTTACTTCA B9927   True     2716   2709   2836   3285   4222   3504\n",
       "GACTGGTTTGGAACTGG B9918   True     1127   1062   1234   1953   1630   1803\n",
       "CGGGGGAAGCACAGTTA B9827   True      619    513    735    968    759    828\n",
       "...                                 ...    ...    ...    ...    ...    ...\n",
       "AAAAAAAGGAGACGAGA         False       0      0      1      0      0      0\n",
       "AAAAAAAGAATGAGGGA         False       0      0      0      0      0      1\n",
       "AAAAAAAGAAAGAAAGG         False       1      0      0      0      0      0\n",
       "AAAAAAAAAGCGAAAGG         False       0      1      0      0      0      0\n",
       "                          False   54676  50559  62264  34211  31103  32579\n",
       "\n",
       "[100887 rows x 6 columns]"
      ]
     },
     "execution_count": 13,
     "metadata": {},
     "output_type": "execute_result"
    }
   ],
   "source": [
    "timepoints = (\n",
    "    read_counts\n",
    "    .unstack(['time', 'sample'], fill_value=0)\n",
    "    .join(barcode_database.barcode.rename(('barcode', '', ''), ))\n",
    "    .join(\n",
    "        membership.rename(('inpool', '', '')),\n",
    "        on='barcode',\n",
    "        how='outer',\n",
    "    )\n",
    "    .rename_axis('barcode_sequence')\n",
    ")\n",
    "timepoints.loc[:, 'inpool'] = timepoints.loc[:, 'inpool'] == 1.0\n",
    "timepoints.loc[timepoints.loc[:, 'barcode'].isna(), 'barcode'] = ''\n",
    "timepoints = timepoints.fillna(0.0).set_index(['barcode', 'inpool'], append=True)\n",
    "timepoints = timepoints.astype(int).loc[:, 'count']\n",
    "timepoints = timepoints.rename_axis(columns=['time', 'sample'])\n",
    "filtered_timepoints = timepoints.loc[(timepoints > 0).any(axis=1)].sort_index(level=['inpool', 'barcode', 'barcode_sequence'], ascending=False).sort_index(axis=1)\n",
    "filtered_timepoints"
   ]
  },
  {
   "cell_type": "markdown",
   "metadata": {},
   "source": [
    "We provide a summary, as in how many reads were from expected barcodes (in the pool), how many were foreign to the pool, how many reads were invalid, etc."
   ]
  },
  {
   "cell_type": "code",
   "execution_count": 14,
   "metadata": {},
   "outputs": [
    {
     "data": {
      "text/html": [
       "<div>\n",
       "<style scoped>\n",
       "    .dataframe tbody tr th:only-of-type {\n",
       "        vertical-align: middle;\n",
       "    }\n",
       "\n",
       "    .dataframe tbody tr th {\n",
       "        vertical-align: top;\n",
       "    }\n",
       "\n",
       "    .dataframe thead tr th {\n",
       "        text-align: left;\n",
       "    }\n",
       "</style>\n",
       "<table border=\"1\" class=\"dataframe\">\n",
       "  <thead>\n",
       "    <tr>\n",
       "      <th></th>\n",
       "      <th colspan=\"6\" halign=\"left\">total_counts</th>\n",
       "      <th colspan=\"6\" halign=\"left\">unique_barcodes</th>\n",
       "    </tr>\n",
       "    <tr>\n",
       "      <th>time</th>\n",
       "      <th colspan=\"3\" halign=\"left\">0h</th>\n",
       "      <th colspan=\"3\" halign=\"left\">24h</th>\n",
       "      <th colspan=\"3\" halign=\"left\">0h</th>\n",
       "      <th colspan=\"3\" halign=\"left\">24h</th>\n",
       "    </tr>\n",
       "    <tr>\n",
       "      <th>sample</th>\n",
       "      <th>OA</th>\n",
       "      <th>OB</th>\n",
       "      <th>OC</th>\n",
       "      <th>OA</th>\n",
       "      <th>OB</th>\n",
       "      <th>OC</th>\n",
       "      <th>OA</th>\n",
       "      <th>OB</th>\n",
       "      <th>OC</th>\n",
       "      <th>OA</th>\n",
       "      <th>OB</th>\n",
       "      <th>OC</th>\n",
       "    </tr>\n",
       "  </thead>\n",
       "  <tbody>\n",
       "    <tr>\n",
       "      <th>invalid_reads</th>\n",
       "      <td>54676</td>\n",
       "      <td>50559</td>\n",
       "      <td>62264</td>\n",
       "      <td>34211</td>\n",
       "      <td>31103</td>\n",
       "      <td>32579</td>\n",
       "      <td>1</td>\n",
       "      <td>1</td>\n",
       "      <td>1</td>\n",
       "      <td>1</td>\n",
       "      <td>1</td>\n",
       "      <td>1</td>\n",
       "    </tr>\n",
       "    <tr>\n",
       "      <th>unknown_sequences</th>\n",
       "      <td>20259</td>\n",
       "      <td>17406</td>\n",
       "      <td>18549</td>\n",
       "      <td>21460</td>\n",
       "      <td>21222</td>\n",
       "      <td>23848</td>\n",
       "      <td>19106</td>\n",
       "      <td>16410</td>\n",
       "      <td>17365</td>\n",
       "      <td>19859</td>\n",
       "      <td>19832</td>\n",
       "      <td>22269</td>\n",
       "    </tr>\n",
       "    <tr>\n",
       "      <th>foreign_barcodes</th>\n",
       "      <td>2334</td>\n",
       "      <td>1146</td>\n",
       "      <td>1539</td>\n",
       "      <td>1142</td>\n",
       "      <td>1017</td>\n",
       "      <td>972</td>\n",
       "      <td>198</td>\n",
       "      <td>156</td>\n",
       "      <td>181</td>\n",
       "      <td>151</td>\n",
       "      <td>152</td>\n",
       "      <td>147</td>\n",
       "    </tr>\n",
       "    <tr>\n",
       "      <th>pool_members</th>\n",
       "      <td>424685</td>\n",
       "      <td>394725</td>\n",
       "      <td>476906</td>\n",
       "      <td>594753</td>\n",
       "      <td>539008</td>\n",
       "      <td>562535</td>\n",
       "      <td>259</td>\n",
       "      <td>259</td>\n",
       "      <td>260</td>\n",
       "      <td>258</td>\n",
       "      <td>259</td>\n",
       "      <td>258</td>\n",
       "    </tr>\n",
       "  </tbody>\n",
       "</table>\n",
       "</div>"
      ],
      "text/plain": [
       "                  total_counts                                          \\\n",
       "time                        0h                     24h                   \n",
       "sample                      OA      OB      OC      OA      OB      OC   \n",
       "invalid_reads            54676   50559   62264   34211   31103   32579   \n",
       "unknown_sequences        20259   17406   18549   21460   21222   23848   \n",
       "foreign_barcodes          2334    1146    1539    1142    1017     972   \n",
       "pool_members            424685  394725  476906  594753  539008  562535   \n",
       "\n",
       "                  unique_barcodes                                     \n",
       "time                           0h                  24h                \n",
       "sample                         OA     OB     OC     OA     OB     OC  \n",
       "invalid_reads                   1      1      1      1      1      1  \n",
       "unknown_sequences           19106  16410  17365  19859  19832  22269  \n",
       "foreign_barcodes              198    156    181    151    152    147  \n",
       "pool_members                  259    259    260    258    259    258  "
      ]
     },
     "execution_count": 14,
     "metadata": {},
     "output_type": "execute_result"
    }
   ],
   "source": [
    "def count(g):\n",
    "    return (g>0).sum()\n",
    "summary = timepoints.groupby([timepoints.index.get_level_values('barcode_sequence') != '', timepoints.index.get_level_values('barcode') != '', timepoints.index.get_level_values('inpool')]).agg(['sum', count]).sort_index(axis=1).rename({'count': 'unique_barcodes', 'sum': 'total_counts'}, axis=1).reorder_levels([2, 0, 1], axis=1)\n",
    "summary = summary[summary.sum(axis=1) > 0]\n",
    "summary.sort_index(axis=1, inplace=True)\n",
    "summary.index = pd.Series(['invalid_reads', 'unknown_sequences', 'foreign_barcodes', 'pool_members'])#.rename('category')\n",
    "summary"
   ]
  },
  {
   "cell_type": "markdown",
   "metadata": {},
   "source": [
    "The graph below shows the number of read counts in each sample, split up in the following categories:\n",
    "* Pool members - these are read counts from expected cell lines\n",
    "* Foreign barcodes - these are read counts from cell lines for which the barcode sequence is known, but which weren't present in the experiment. If we had a lot of these foreign barcodes, we clearly had an issue during e.g. sample preparation.\n",
    "* Unknown sequences - these reads have valid flanking sequences and a barcode sequence of the correct length, but the barcode sequence itself is not associated with any known cell line.\n",
    "* Invalid reads - these are reads that have missing or mangled flanking sequences or a barcode sequence of an incorrect length."
   ]
  },
  {
   "cell_type": "code",
   "execution_count": 14,
   "metadata": {},
   "outputs": [
    {
     "data": {
      "text/plain": [
       "<matplotlib.legend.Legend at 0x7f10dc1b01f0>"
      ]
     },
     "execution_count": 14,
     "metadata": {},
     "output_type": "execute_result"
    },
    {
     "data": {
      "image/png": "[encoded data removed]",
      "text/plain": [
       "<Figure size 750x600 with 1 Axes>"
      ]
     },
     "metadata": {},
     "output_type": "display_data"
    }
   ],
   "source": [
    "fig, ax = plt.subplots(1, 1, figsize=(5, 4), dpi=150)\n",
    "\n",
    "quantity = 'total_counts'\n",
    "\n",
    "x = [0, 1, 2, 4, 5, 6]\n",
    "ax.bar(x, summary.loc['pool_members', quantity], label='Pool members', color='C0')\n",
    "ax.bar(x, summary.loc['foreign_barcodes', quantity], bottom=summary.loc['pool_members', quantity], label='Foreign barcodes', color='C3')\n",
    "ax.bar(x, summary.loc['unknown_sequences', quantity], bottom=summary.loc['pool_members', quantity] + summary.loc['foreign_barcodes', quantity], label='Unknown sequences', color='C1')\n",
    "ax.bar(x, summary.loc['invalid_reads', quantity], bottom=summary.loc['pool_members', quantity] + summary.loc['unknown_sequences', quantity] + summary.loc['foreign_barcodes', quantity], label='Invalid reads', color='grey')\n",
    "for spine in ['bottom', 'top', 'right']:\n",
    "    ax.spines[spine].set_visible(False)\n",
    "ax.set_xticks([0, 1, 2, 4, 5, 6], ['OA', 'OB', 'OC']*2)\n",
    "ax.text(1, 650000, '0h', ha='center')\n",
    "ax.text(5, 650000, '24h', ha='center')\n",
    "ax.set_ylabel('Total read counts')\n",
    "ax.legend(frameon=False, ncols=1, loc=\"center left\", bbox_to_anchor=(1, 0.5))"
   ]
  },
  {
   "cell_type": "markdown",
   "metadata": {},
   "source": [
    "Finally, we calculate the fitness of each cell line (which essentially is the read out effect size of our experiments) and the statistical p-value. This is done by calculating how much each cell line changed between the 0h and 24h time points. We then compare the change of each cell line to the median change of the included parental cell lines to find the fitness (effect size). We determine the p value by calculating the Mann Whitney U test for between the cell line replicates and the parental replicates.  "
   ]
  },
  {
   "cell_type": "code",
   "execution_count": 33,
   "metadata": {},
   "outputs": [],
   "source": [
    "inpool = timepoints.loc[idx[:, :, True]]\n",
    "inpool = inpool[inpool.index.get_level_values('barcode_sequence').notna()]\n",
    "inpool = inpool.stack(['time'])\n",
    "inpool = (inpool.loc[idx[:, :, '24h']] / inpool.loc[idx[:, :, '0h']]).fillna(0.0)\n",
    "parentals = inpool.loc[idx[:, ['B87', 'B88', 'B89', 'B90', 'B91']], :].stack()\n",
    "pmedian = parentals.median()\n",
    "inpool.loc[:, 'pvalue'] = inpool.apply(lambda row: mannwhitneyu(row.loc[['OA', 'OB', 'OC']], parentals).pvalue, axis=1)\n",
    "inpool.loc[:, 'effectsize'] = inpool.loc[:, ['OA', 'OB', 'OC']].median(axis=1) / pmedian"
   ]
  },
  {
   "cell_type": "code",
   "execution_count": 34,
   "metadata": {},
   "outputs": [
    {
     "name": "stderr",
     "output_type": "stream",
     "text": [
      "/home/uli/mambaforge/envs/TransLeish1/lib/python3.8/site-packages/pandas/core/arraylike.py:396: RuntimeWarning: divide by zero encountered in log2\n",
      "  result = getattr(ufunc, method)(*inputs, **kwargs)\n"
     ]
    }
   ],
   "source": [
    "statistics = inpool.join(barcode_database.loc[:, ['geneid']]).droplevel('barcode_sequence').set_index(['geneid'], append=True).loc[:, ['pvalue', 'effectsize']].sort_values('effectsize', key=lambda v: abs(np.log2(v)), ascending=False)"
   ]
  },
  {
   "cell_type": "markdown",
   "metadata": {},
   "source": [
    "Finally, we write our results to a large Excel file containing the summary, the read counts, the statistics and the membership information."
   ]
  },
  {
   "cell_type": "code",
   "execution_count": 18,
   "metadata": {},
   "outputs": [],
   "source": [
    "with pd.ExcelWriter('TransLeish1_InVitro_results.xlsx') as writer:\n",
    "    summary.to_excel(writer, sheet_name='Summary')\n",
    "    filtered_timepoints.to_excel(writer, sheet_name='Read counts')\n",
    "    statistics.to_excel(writer, sheet_name='Statistics')\n",
    "    membership.to_frame('inpool').loc[:, []].join(barcode_database.reset_index().set_index('barcode')).sort_values('geneid').to_excel(writer, 'Pool membership')"
   ]
  }
 ],
 "metadata": {
  "kernelspec": {
   "display_name": "Python 3",
   "language": "python",
   "name": "python3"
  },
  "language_info": {
   "codemirror_mode": {
    "name": "ipython",
    "version": 3
   },
   "file_extension": ".py",
   "mimetype": "text/x-python",
   "name": "python",
   "nbconvert_exporter": "python",
   "pygments_lexer": "ipython3",
   "version": "3.8.10"
  }
 },
 "nbformat": 4,
 "nbformat_minor": 2
}
